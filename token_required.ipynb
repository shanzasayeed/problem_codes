{
 "cells": [
  {
   "cell_type": "code",
   "execution_count": 3,
   "metadata": {},
   "outputs": [
    {
     "name": "stdout",
     "output_type": "stream",
     "text": [
      "Token required\n"
     ]
    }
   ],
   "source": [
    "h=int(input('enter height in feet'))\n",
    "if h>=3:\n",
    "    print('Token required')\n",
    "else:\n",
    "    print('Token not required')\n"
   ]
  },
  {
   "cell_type": "code",
   "execution_count": 8,
   "metadata": {},
   "outputs": [
    {
     "name": "stdout",
     "output_type": "stream",
     "text": [
      "You cannot ride\n"
     ]
    }
   ],
   "source": [
    "ht=int(input('enter height in feet'))\n",
    "if ht>=4:\n",
    "    age= int(input('Enter age'))\n",
    "    if age <=18:\n",
    "        print('Pay Rs 250')\n",
    "    else:\n",
    "        print('Pay Rs 500')    \n",
    "else:\n",
    "    print('You cannot ride')\n",
    "    "
   ]
  },
  {
   "cell_type": "code",
   "execution_count": 10,
   "metadata": {},
   "outputs": [
    {
     "name": "stdout",
     "output_type": "stream",
     "text": [
      "Pay Rs. 150\n"
     ]
    }
   ],
   "source": [
    "height=int(input('enter height in feet'))\n",
    "if height>=4:\n",
    "    agee= int(input('Enter age'))\n",
    "    if agee <12:\n",
    "        print('Pay Rs. 150')\n",
    "    elif agee <=18:\n",
    "        print('Pay Rs 250')\n",
    "    else:\n",
    "        print('Pay Rs 500')    \n",
    "else:\n",
    "    print('You cannot ride')\n",
    "    "
   ]
  },
  {
   "cell_type": "code",
   "execution_count": null,
   "metadata": {},
   "outputs": [],
   "source": []
  }
 ],
 "metadata": {
  "kernelspec": {
   "display_name": "base",
   "language": "python",
   "name": "python3"
  },
  "language_info": {
   "codemirror_mode": {
    "name": "ipython",
    "version": 3
   },
   "file_extension": ".py",
   "mimetype": "text/x-python",
   "name": "python",
   "nbconvert_exporter": "python",
   "pygments_lexer": "ipython3",
   "version": "3.10.10"
  },
  "orig_nbformat": 4
 },
 "nbformat": 4,
 "nbformat_minor": 2
}
