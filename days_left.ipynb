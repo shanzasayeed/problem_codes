{
 "cells": [
  {
   "cell_type": "code",
   "execution_count": 6,
   "metadata": {},
   "outputs": [
    {
     "name": "stdout",
     "output_type": "stream",
     "text": [
      "You have 24455 days, 3484 weeks and 804 months left\n"
     ]
    }
   ],
   "source": [
    "# find how months days and weeks left if we lived until 90\n",
    "current_age=int(input('Enter your current age'))\n",
    "if current_age<=90:\n",
    "    years_left=90-current_age\n",
    "    months_left=years_left*12\n",
    "    weeks_left=years_left*52\n",
    "    days_left=years_left*365\n",
    "    print(f'You have {days_left} days, {weeks_left} weeks and {months_left} months left')\n",
    "else:\n",
    "    print('Invalid input')    \n",
    " "
   ]
  },
  {
   "cell_type": "code",
   "execution_count": 2,
   "metadata": {},
   "outputs": [],
   "source": [
    "def leap_year(yr):\n",
    "    if yr%4==0:\n",
    "        if yr%100==0:\n",
    "            if yr%400==0:\n",
    "                return True\n",
    "            else:\n",
    "                return False\n",
    "        return True\n",
    "    return False    "
   ]
  },
  {
   "cell_type": "code",
   "execution_count": 5,
   "metadata": {},
   "outputs": [
    {
     "name": "stdout",
     "output_type": "stream",
     "text": [
      "29 days\n"
     ]
    }
   ],
   "source": [
    "def no_of_days(month,year):\n",
    "    months=[31,28,31,30,31,30,31,31,30,31,30,31]\n",
    "    if leap_year(year) and month==2:\n",
    "        print('29 days')\n",
    "    else:\n",
    "        print( months[month-1] ,'days')\n",
    "no_of_days(2,2008)        \n",
    "\n"
   ]
  },
  {
   "cell_type": "code",
   "execution_count": 18,
   "metadata": {},
   "outputs": [],
   "source": [
    "dob=input('Enter your date of birth in dd/mm/yyyy format')\n",
    "todays_date= input(\"Enter today's date in dd/mm/yyyy format\" )\n",
    "age_years=int(todays_date[6:10]) - int(dob[6:10])\n",
    "age_months=int(todays_date[6:10]) - int(dob[6:10])\n",
    "   \n",
    "if int(todays_date[3:5]) > int(dob[3:5]):\n",
    "    age_months=int(todays_date[3:5]) - int(dob[3:5])\n",
    "elif  int(todays_date[3:5]) < int(dob[3:5]):   \n",
    "    age_years-=1\n",
    "    age_months=(12-int(dob[3:5]))+int(todays_date[3:5])\n",
    "else:\n",
    "    age_months=0\n",
    "\n",
    "if int(todays_date[0:2]) > int(dob[0:2]):\n",
    "    age_days=int(todays_date[0:2]) - int(dob[0:2])\n",
    "elif int(todays_date[0:2]) < int(dob[0:2]):\n",
    "    age_months-=1\n",
    "    age_days= (30-int(dob[0:2]))+int(todays_date[0:2])\n",
    "else:\n",
    "    age_days=0  \n",
    "   \n",
    "print(f'you are {age_years} years,{age_months} months and {age_days} days old')\n",
    "if age_months==0 and age_days==0:\n",
    "    print(f'You have {90-age_years} years left')\n",
    "elif age_months==0:\n",
    "    print(f'You have {(90-age_years)-1} years,11 months {age_days} days left') \n",
    "else:\n",
    "    print(f' You have {(90-age_years)-1} years ,{(12-age_months)-1} months and {30-age_days} days left')       \n",
    "\n",
    "\n",
    "\n",
    "\n"
   ]
  }
 ],
 "metadata": {
  "kernelspec": {
   "display_name": "base",
   "language": "python",
   "name": "python3"
  },
  "language_info": {
   "codemirror_mode": {
    "name": "ipython",
    "version": 3
   },
   "file_extension": ".py",
   "mimetype": "text/x-python",
   "name": "python",
   "nbconvert_exporter": "python",
   "pygments_lexer": "ipython3",
   "version": "3.10.10"
  },
  "orig_nbformat": 4
 },
 "nbformat": 4,
 "nbformat_minor": 2
}
