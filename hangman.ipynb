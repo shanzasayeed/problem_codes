{
 "cells": [
  {
   "cell_type": "code",
   "execution_count": 3,
   "metadata": {},
   "outputs": [
    {
     "name": "stdout",
     "output_type": "stream",
     "text": [
      "Welcome s\n",
      "Try to guess the word in 6 attempts\n",
      "['_', '_', '_', '_', '_', '_']\n"
     ]
    }
   ],
   "source": [
    "import random\n",
    "list_of_words=['apple','banana','mango','orange','carrot']\n",
    "word = random.choice(list_of_words)\n",
    "position=0\n",
    "name=input('Enter your name')\n",
    "print(\"Welcome\",name)\n",
    "print('Try to guess the word in 6 attempts')\n",
    "main_word=[]\n",
    "for i in word:\n",
    "    i='_'\n",
    "    main_word.append(i)\n",
    "print(main_word)\n",
    "lives=6\n",
    "\n",
    "end_of_game=False\n",
    "while not end_of_game:\n",
    "    guess=input('Enter your choice').lower()\n",
    "    for i in range(len(word)):\n",
    "        if word[i]==guess:\n",
    "             position=i \n",
    "             main_word[position]=word[i]\n",
    "             print(main_word)\n",
    "        \n",
    "    if guess not in word:\n",
    "        print('wrong choice')\n",
    "        lives-=1  \n",
    "        if lives==0:\n",
    "         end_of_game=True  \n",
    "         print('You lose, The correct answer is', word ) \n",
    "         break \n",
    "    if '_' not in main_word:\n",
    "        end_of_game=True\n",
    "        print('You win. The correct answer is', word )\n",
    "        break"
   ]
  },
  {
   "cell_type": "code",
   "execution_count": null,
   "metadata": {},
   "outputs": [],
   "source": []
  },
  {
   "cell_type": "code",
   "execution_count": null,
   "metadata": {},
   "outputs": [],
   "source": []
  }
 ],
 "metadata": {
  "kernelspec": {
   "display_name": "base",
   "language": "python",
   "name": "python3"
  },
  "language_info": {
   "codemirror_mode": {
    "name": "ipython",
    "version": 3
   },
   "file_extension": ".py",
   "mimetype": "text/x-python",
   "name": "python",
   "nbconvert_exporter": "python",
   "pygments_lexer": "ipython3",
   "version": "3.10.10"
  },
  "orig_nbformat": 4
 },
 "nbformat": 4,
 "nbformat_minor": 2
}
