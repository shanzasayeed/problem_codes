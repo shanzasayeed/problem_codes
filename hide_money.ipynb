{
 "cells": [
  {
   "cell_type": "code",
   "execution_count": 1,
   "metadata": {},
   "outputs": [
    {
     "name": "stdout",
     "output_type": "stream",
     "text": [
      "[1, 1, 1] \n",
      "[1, 1, 1] \n",
      "[1, 1, 1]\n",
      "\n",
      "[1, 1, 1] \n",
      "[1, 1, 1] \n",
      "['X', 1, 1]\n"
     ]
    }
   ],
   "source": [
    "l1=[1,1,1]\n",
    "l2=[1,1,1]\n",
    "l3=[1,1,1]\n",
    "matrix=[l1,l2,l3]\n",
    "print(f'{l1} \\n{l2} \\n{l3}\\n')\n",
    "position=input(('Enter position to hide money'))\n",
    "row=int(position[0])\n",
    "col=int(position[1])\n",
    "row_selected=matrix[row-1]\n",
    "row_selected[col-1]='X'\n",
    "print(f'{l1} \\n{l2} \\n{l3}')\n",
    "\n"
   ]
  },
  {
   "cell_type": "code",
   "execution_count": null,
   "metadata": {},
   "outputs": [],
   "source": []
  },
  {
   "cell_type": "code",
   "execution_count": null,
   "metadata": {},
   "outputs": [],
   "source": []
  }
 ],
 "metadata": {
  "kernelspec": {
   "display_name": "base",
   "language": "python",
   "name": "python3"
  },
  "language_info": {
   "codemirror_mode": {
    "name": "ipython",
    "version": 3
   },
   "file_extension": ".py",
   "mimetype": "text/x-python",
   "name": "python",
   "nbconvert_exporter": "python",
   "pygments_lexer": "ipython3",
   "version": "3.10.10"
  },
  "orig_nbformat": 4
 },
 "nbformat": 4,
 "nbformat_minor": 2
}
